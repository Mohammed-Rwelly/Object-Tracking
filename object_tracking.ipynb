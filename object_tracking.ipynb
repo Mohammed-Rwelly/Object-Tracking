{
  "nbformat": 4,
  "nbformat_minor": 0,
  "metadata": {
    "colab": {
      "name": "object_tracking.ipynb",
      "provenance": [],
      "collapsed_sections": []
    },
    "kernelspec": {
      "name": "python3",
      "display_name": "Python 3"
    }
  },
  "cells": [
    {
      "cell_type": "code",
      "metadata": {
        "id": "UZ3y-jvXd55c",
        "colab_type": "code",
        "colab": {}
      },
      "source": [
        "from scipy.spatial import distance as dist\n",
        "from collections import OrderedDict\n",
        "import numpy as np\n",
        "\n",
        "class CentroidTracker:\n",
        "\tdef __init__(self, maxDisappeared=50, maxDistance=50):\n",
        "\t\tself.nextObjectID = 0\n",
        "\t\tself.objects = OrderedDict()\n",
        "\t\tself.disappeared = OrderedDict()\n",
        "\t\tself.maxDisappeared = maxDisappeared\n",
        "\t\tself.maxDistance = maxDistance\n",
        "\n",
        "  def register(self, centroid):\n",
        "\t\tself.objects[self.nextObjectID] = centroid\n",
        "\t\tself.disappeared[self.nextObjectID] = 0\n",
        "\t\tself.nextObjectID += 1\n",
        "\n",
        "  def deregister(self, objectID):\n",
        "\t\tdel self.objects[objectID]\n",
        "\t\tdel self.disappeared[objectID]\n",
        "\n",
        "  def update(self, rects):\n",
        "\t\tif len(rects) == 0:\n",
        "\t\t\tfor objectID in list(self.disappeared.keys()):\n",
        "\t\t\t\tself.disappeared[objectID] += 1\n",
        "\t\t\t\tif self.disappeared[objectID] > self.maxDisappeared:\n",
        "\t\t\t\t\tself.deregister(objectID)\n",
        "\t\t\treturn self.objects\t\t\n",
        "\n",
        "\t\tinputCentroids = np.zeros((len(rects), 2), dtype=\"int\")\n",
        "\t\tfor (i, (startX, startY, endX, endY)) in enumerate(rects):\n",
        "\t\t\tcX = int((startX + endX) / 2.0)\n",
        "\t\t\tcY = int((startY + endY) / 2.0)\n",
        "\t\t\tinputCentroids[i] = (cX, cY)\t\n",
        "\t\n",
        "\t\tif len(self.objects) == 0:\n",
        "\t\t\tfor i in range(0, len(inputCentroids)):\n",
        "\t\t\t\tself.register(inputCentroids[i])\n",
        "\n",
        "\t\telse:\n",
        "\t\t\tobjectIDs = list(self.objects.keys())\n",
        "\t\t\tobjectCentroids = list(self.objects.values())\n",
        "\t\t\tD = dist.cdist(np.array(objectCentroids), inputCentroids)\n",
        "\t\t\trows = D.min(axis=1).argsort()\n",
        "\t\t\tcols = D.argmin(axis=1)[rows]\n",
        "\n",
        "\n",
        "\t\t\tusedRows = set()\n",
        "\t\t\tusedCols = set()\n",
        "\t\t\tfor (row, col) in zip(rows, cols):\n",
        "\t\t\t\tif row in usedRows or col in usedCols:\n",
        "\t\t\t\t\tcontinue\n",
        "\t\t\t\tif D[row, col] > self.maxDistance:\n",
        "\t\t\t\t\tcontinue\n",
        "\t\t\t\tobjectID = objectIDs[row]\n",
        "\t\t\t\tself.objects[objectID] = inputCentroids[col]\n",
        "\t\t\t\tself.disappeared[objectID] = 0\n",
        "\t\t\t\tusedRows.add(row)\n",
        "\t\t\t\tusedCols.add(col)\n",
        "\t\t\n",
        "\t\t\tunusedRows = set(range(0, D.shape[0])).difference(usedRows)\n",
        "\t\t\tunusedCols = set(range(0, D.shape[1])).difference(usedCols)\n",
        "\t \n",
        "\n",
        "\t\t\tif D.shape[0] >= D.shape[1]:\n",
        "\t\t\t\tfor row in unusedRows:\n",
        "\t\t\t\t\tobjectID = objectIDs[row]\n",
        "\t\t\t\t\tself.disappeared[objectID] += 1\n",
        "\t\t\t\t\tif self.disappeared[objectID] > self.maxDisappeared:\n",
        "\t\t\t\t\t\tself.deregister(objectID)\n",
        "\n",
        "\t\t\telse:\n",
        "\t\t\t\tfor col in unusedCols:\n",
        "\t\t\t\t\tself.register(inputCentroids[col])\n",
        "\t\treturn self.objects\t\t\t"
      ],
      "execution_count": null,
      "outputs": []
    },
    {
      "cell_type": "code",
      "metadata": {
        "id": "ItLoZul6qvUz",
        "colab_type": "code",
        "colab": {}
      },
      "source": [
        "from imutils.video import VideoStream\n",
        "import numpy as np\n",
        "import imutils\n",
        "import time\n",
        "import cv2"
      ],
      "execution_count": null,
      "outputs": []
    },
    {
      "cell_type": "code",
      "metadata": {
        "id": "w751FQ2cyouP",
        "colab_type": "code",
        "colab": {}
      },
      "source": [
        "\n",
        "prototxt_path ='./deploy.prototxt'\n",
        "\n",
        "\n",
        "model_path='./res10_300x300_ssd_iter_140000.caffemodel'\n",
        "\n",
        "\n",
        "confidence=0.5"
      ],
      "execution_count": null,
      "outputs": []
    },
    {
      "cell_type": "code",
      "metadata": {
        "id": "eTzL4XIYy9Nf",
        "colab_type": "code",
        "colab": {}
      },
      "source": [
        "ct = CentroidTracker()\n",
        "(H, W) = (None, None)\n",
        "print(\"[INFO] loading model...\")\n",
        "net = cv2.dnn.readNetFromCaffe(prototxt_path, model_path)\n",
        "print(\"[INFO] starting video stream...\")\n",
        "vs = VideoStream(src=0).start()\n",
        "time.sleep(2.0)"
      ],
      "execution_count": null,
      "outputs": []
    },
    {
      "cell_type": "code",
      "metadata": {
        "id": "vevfVifecI2T",
        "colab_type": "code",
        "colab": {}
      },
      "source": [
        "while True:\n",
        "\tframe = vs.read()\n",
        "\tframe = imutils.resize(frame, width=400)\n",
        "\tif W is None or H is None:\n",
        "\t\t(H, W) = frame.shape[:2]\n",
        "\tblob = cv2.dnn.blobFromImage(frame, 1.0, (W, H),\n",
        "\t\t(104.0, 177.0, 123.0))\n",
        "\tnet.setInput(blob)\n",
        "\tdetections = net.forward()\n",
        "\trects = []\n",
        "\n",
        "\tfor i in range(0, detections.shape[2]):\n",
        "\t\tif detections[0, 0, i, 2] > confidence:\n",
        "\t\t\tbox = detections[0, 0, i, 3:7] * np.array([W, H, W, H])\n",
        "\t\t\trects.append(box.astype(\"int\"))\n",
        "\t\t\t(startX, startY, endX, endY) = box.astype(\"int\")\n",
        "\t\t\tcv2.rectangle(frame, (startX, startY), (endX, endY),\n",
        "\t\t\t\t(0, 255, 0), 2)\n",
        "\n",
        "\tobjects = ct.update(rects)\n",
        "\n",
        "\tfor (objectID, centroid) in objects.items():\n",
        "\t\ttext = \"ID {}\".format(objectID)\n",
        "\t\tcv2.putText(frame, text, (centroid[0] - 10, centroid[1] - 10),\n",
        "\t\t\tcv2.FONT_HERSHEY_SIMPLEX, 0.4, (0, 0, 255), 1)\n",
        "\t\tcv2.circle(frame, (centroid[0], centroid[1]), 4, (0, 255, 0), -1)\n",
        "\n",
        "\tcv2.imshow(\"Frame\", frame)\n",
        "\tkey = cv2.waitKey(1) & 0xFF\n",
        "\n",
        "\tif key == ord(\"q\"):\n",
        "\t\tbreak\n",
        "\n",
        "cv2.destroyAllWindows()\n",
        "vs.stop()"
      ],
      "execution_count": null,
      "outputs": []
    }
  ]
}